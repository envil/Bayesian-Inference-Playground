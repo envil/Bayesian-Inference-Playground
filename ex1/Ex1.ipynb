{
 "cells": [
  {
   "cell_type": "markdown",
   "metadata": {},
   "source": [
    "# Question 1\n",
    "Lets consider mixed-membership model for the survey data case. In the survey data, each group (document in the topic modeling) is one survey. So one individual. Observed data are the answers given in the survey, global patterns (the topics in topic model) are the per question answer patterns. Proportions on the other hand reflect the subject level proportions. The goal is to obtain information about subjects without simply clustering the data directly. The task is to take the data from (https://archive.ics.uci.edu/ml/datasets/Bank+Marketing) and to consider only categorical attributes (such as 2,3,4,5...). Define the generative process and draw graphical model. Note do not consider attribute 21 in your model."
   ]
  },
  {
   "cell_type": "code",
   "execution_count": 29,
   "metadata": {},
   "outputs": [
    {
     "data": {
      "text/plain": [
       "<matplotlib.axes._axes.Axes at 0x11bac8208>"
      ]
     },
     "execution_count": 29,
     "metadata": {},
     "output_type": "execute_result"
    },
    {
     "data": {
      "image/png": "[encoded data removed]",
      "text/plain": [
       "<Figure size 566.929x396.85 with 1 Axes>"
      ]
     },
     "metadata": {},
     "output_type": "display_data"
    }
   ],
   "source": [
    "from matplotlib import rc\n",
    "rc(\"font\", family=\"serif\", size=12)\n",
    "rc(\"text\", usetex=True)\n",
    "\n",
    "import daft\n",
    "\n",
    "# Instantiate the PGM.\n",
    "pgm = daft.PGM([10, 7], origin=[0.3, 0.3])\n",
    "\n",
    "# Mixture proportions\n",
    "pgm.add_node(daft.Node(\"alpha\", r\"$\\alpha$\", 1, 5, fixed=True))\n",
    "pgm.add_node(daft.Node(\"theta_n\", r\"$\\theta_n$\", 4.5, 3.5))\n",
    "\n",
    "# Mixture components\n",
    "pgm.add_node(daft.Node(\"eta\", r\"$\\eta$\", 9, 6, fixed=True))\n",
    "# pgm.add_node(daft.Node(\"sigma\", r\"$\\sigma^2$\", 6, 5, fixed=True))\n",
    "pgm.add_node(daft.Node(\"beta_k\", r\"$\\beta_k$\", 8.5, 5))\n",
    "\n",
    "# Generation\n",
    "pgm.add_node(daft.Node(\"z_nj\", r\"$z_{nj}$\", 4.5, 2))\n",
    "pgm.add_node(daft.Node(\"x_nj\", r\"$x_{nj}$\", 7, 2, observed=True))\n",
    "\n",
    "# Add in the edges.\n",
    "pgm.add_edge(\"alpha\", \"theta_n\", label=\"$Dirichlet()$\")\n",
    "pgm.add_edge(\"eta\", \"beta_k\", label=\"$Dirichlet()$\")\n",
    "pgm.add_edge(\"theta_n\", \"z_nj\", label=r\"$Categorical()$\")\n",
    "# pgm.add_edge(\"sigma\", \"x_n\")\n",
    "pgm.add_edge(\"beta_k\", \"x_nj\")\n",
    "pgm.add_edge(\"z_nj\", \"x_nj\", label=r\"$Discrete()$\")\n",
    "\n",
    "# Dirichlet plate\n",
    "# pgm.add_plate(daft.Plate([2.5, 4, 1, 1.5], label=r\"$K$\"))\n",
    "\n",
    "# Mixture components plate\n",
    "pgm.add_plate(daft.Plate([7, 4.5, 2.5, 1], label=r\"$K$\"))\n",
    "\n",
    "# User plate\n",
    "pgm.add_plate(daft.Plate([3, 1, 5, 3], label=r\"$N$\"))\n",
    "\n",
    "# Answer plate\n",
    "pgm.add_plate(daft.Plate([3.5, 1.5, 4, 1], label=r\"$J$\"))\n",
    "\n",
    "# Render and save.\n",
    "pgm.render()"
   ]
  },
  {
   "cell_type": "code",
   "execution_count": null,
   "metadata": {},
   "outputs": [],
   "source": []
  }
 ],
 "metadata": {
  "kernelspec": {
   "display_name": "Python 3",
   "language": "python",
   "name": "python3"
  },
  "language_info": {
   "codemirror_mode": {
    "name": "ipython",
    "version": 3
   },
   "file_extension": ".py",
   "mimetype": "text/x-python",
   "name": "python",
   "nbconvert_exporter": "python",
   "pygments_lexer": "ipython3",
   "version": "3.6.6"
  }
 },
 "nbformat": 4,
 "nbformat_minor": 2
}
